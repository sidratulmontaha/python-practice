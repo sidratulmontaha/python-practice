{
 "cells": [
  {
   "cell_type": "code",
   "execution_count": 1,
   "metadata": {},
   "outputs": [],
   "source": [
    "import scipy.stats as stats\n",
    "import numpy as np"
   ]
  },
  {
   "cell_type": "code",
   "execution_count": 3,
   "metadata": {},
   "outputs": [
    {
     "data": {
      "text/plain": [
       "3.5"
      ]
     },
     "execution_count": 3,
     "metadata": {},
     "output_type": "execute_result"
    }
   ],
   "source": [
    "x1=[1,2,2,3,4,5,5,7]\n",
    "x2=x1 + [100]\n",
    "\n",
    "np.median(x1)"
   ]
  },
  {
   "cell_type": "code",
   "execution_count": 13,
   "metadata": {},
   "outputs": [
    {
     "data": {
      "text/plain": [
       "2"
      ]
     },
     "execution_count": 13,
     "metadata": {},
     "output_type": "execute_result"
    }
   ],
   "source": [
    "stats.mode(x2)[0][0]"
   ]
  },
  {
   "cell_type": "code",
   "execution_count": 14,
   "metadata": {},
   "outputs": [
    {
     "name": "stdout",
     "output_type": "stream",
     "text": [
      "Requirement already satisfied: pandas-datareader in c:\\programdata\\anaconda3\\lib\\site-packages (0.7.0)\n",
      "Requirement already satisfied: requests>=2.3.0 in c:\\programdata\\anaconda3\\lib\\site-packages (from pandas-datareader) (2.21.0)\n",
      "Requirement already satisfied: pandas>=0.19.2 in c:\\programdata\\anaconda3\\lib\\site-packages (from pandas-datareader) (0.24.2)\n",
      "Requirement already satisfied: wrapt in c:\\users\\administrator\\appdata\\roaming\\python\\python37\\site-packages (from pandas-datareader) (1.11.1)\n",
      "Requirement already satisfied: lxml in c:\\programdata\\anaconda3\\lib\\site-packages (from pandas-datareader) (4.3.2)\n",
      "Requirement already satisfied: certifi>=2017.4.17 in c:\\programdata\\anaconda3\\lib\\site-packages (from requests>=2.3.0->pandas-datareader) (2019.3.9)\n",
      "Requirement already satisfied: urllib3<1.25,>=1.21.1 in c:\\programdata\\anaconda3\\lib\\site-packages (from requests>=2.3.0->pandas-datareader) (1.24.1)\n",
      "Requirement already satisfied: idna<2.9,>=2.5 in c:\\programdata\\anaconda3\\lib\\site-packages (from requests>=2.3.0->pandas-datareader) (2.8)\n",
      "Requirement already satisfied: chardet<3.1.0,>=3.0.2 in c:\\programdata\\anaconda3\\lib\\site-packages (from requests>=2.3.0->pandas-datareader) (3.0.4)\n",
      "Requirement already satisfied: pytz>=2011k in c:\\programdata\\anaconda3\\lib\\site-packages (from pandas>=0.19.2->pandas-datareader) (2018.9)\n",
      "Requirement already satisfied: python-dateutil>=2.5.0 in c:\\programdata\\anaconda3\\lib\\site-packages (from pandas>=0.19.2->pandas-datareader) (2.8.0)\n",
      "Requirement already satisfied: numpy>=1.12.0 in c:\\programdata\\anaconda3\\lib\\site-packages (from pandas>=0.19.2->pandas-datareader) (1.16.2)\n",
      "Requirement already satisfied: six>=1.5 in c:\\users\\administrator\\appdata\\roaming\\python\\python37\\site-packages (from python-dateutil>=2.5.0->pandas>=0.19.2->pandas-datareader) (1.12.0)\n"
     ]
    }
   ],
   "source": [
    "!pip install pandas-datareader\n",
    "from datetime import datetime\n",
    "import pandas_datareader as pdr"
   ]
  },
  {
   "cell_type": "code",
   "execution_count": 36,
   "metadata": {},
   "outputs": [],
   "source": [
    "prices =  pdr.data.DataReader('SPY', data_source='yahoo', start=datetime(2017,1,1), end=datetime(2019,1,1)).iloc[:, -1]\n",
    "\n",
    "(hist, bins) = np.histogram(prices.pct_change()[1:,], 20)\n",
    "returns = prices.pct_change()[1:,].head()"
   ]
  },
  {
   "cell_type": "code",
   "execution_count": 37,
   "metadata": {},
   "outputs": [
    {
     "name": "stdout",
     "output_type": "stream",
     "text": [
      "<class 'numpy.ndarray'>\n"
     ]
    }
   ],
   "source": [
    "print(type(hist))"
   ]
  },
  {
   "cell_type": "code",
   "execution_count": 38,
   "metadata": {},
   "outputs": [
    {
     "name": "stdout",
     "output_type": "stream",
     "text": [
      "[  2   0   3   2   8  12  10  39 132 177  73  27  10   3   2   0   0   0\n",
      "   0   1]\n",
      "[-0.04182268 -0.0372053  -0.03258792 -0.02797055 -0.02335317 -0.01873579\n",
      " -0.01411842 -0.00950104 -0.00488366 -0.00026629  0.00435109  0.00896846\n",
      "  0.01358584  0.01820322  0.02282059  0.02743797  0.03205535  0.03667272\n",
      "  0.0412901   0.04590748  0.05052485]\n"
     ]
    },
    {
     "data": {
      "text/plain": [
       "False"
      ]
     },
     "execution_count": 38,
     "metadata": {},
     "output_type": "execute_result"
    }
   ],
   "source": [
    "print(hist)\n",
    "print(bins)\n",
    "len(hist) == len(bins)"
   ]
  },
  {
   "cell_type": "code",
   "execution_count": 39,
   "metadata": {},
   "outputs": [
    {
     "name": "stdout",
     "output_type": "stream",
     "text": [
      "177\n"
     ]
    }
   ],
   "source": [
    "maxfreq = hist.max()\n",
    "print(maxfreq)"
   ]
  },
  {
   "cell_type": "code",
   "execution_count": 40,
   "metadata": {},
   "outputs": [
    {
     "data": {
      "text/plain": [
       "[(-0.0002662882633244837, 0.004351088279266113)]"
      ]
     },
     "execution_count": 40,
     "metadata": {},
     "output_type": "execute_result"
    }
   ],
   "source": [
    "[(bins[i], bins[i+1]) for i,j in enumerate(hist) if j == maxfreq]"
   ]
  },
  {
   "cell_type": "code",
   "execution_count": 49,
   "metadata": {},
   "outputs": [
    {
     "name": "stdout",
     "output_type": "stream",
     "text": [
      "Date\n",
      "2017-01-04    1.005949\n",
      "2017-01-05    0.999206\n",
      "2017-01-06    1.003578\n",
      "2017-01-09    0.996699\n",
      "2017-01-10    1.000000\n",
      "Name: Adj Close, dtype: float64\n",
      "Date\n",
      "2017-01-04    1.005949\n",
      "2017-01-05    0.999206\n",
      "2017-01-06    1.003578\n",
      "2017-01-09    0.996699\n",
      "2017-01-10    1.000000\n",
      "Name: Adj Close, dtype: float64\n",
      "0.001080940287554899\n",
      "0.0010863139438808123\n"
     ]
    }
   ],
   "source": [
    "ratios = returns + 1\n",
    "print(ratios.head())\n",
    "print((returns + np.ones(len(returns))).head())\n",
    "\n",
    "R_G = stats.gmean(ratios) - 1\n",
    "\n",
    "print(R_G)\n",
    "print(returns.mean())"
   ]
  },
  {
   "cell_type": "code",
   "execution_count": 58,
   "metadata": {},
   "outputs": [
    {
     "name": "stdout",
     "output_type": "stream",
     "text": [
      "215.87513732910156\n",
      "217.04440307617188\n",
      "217.04440307617196\n"
     ]
    },
    {
     "data": {
      "text/plain": [
       "Date\n",
       "2017-01-04    0.005949\n",
       "2017-01-05   -0.000794\n",
       "2017-01-06    0.003578\n",
       "2017-01-09   -0.003301\n",
       "2017-01-10    0.000000\n",
       "Name: Adj Close, dtype: float64"
      ]
     },
     "execution_count": 58,
     "metadata": {},
     "output_type": "execute_result"
    }
   ],
   "source": [
    "#FV=PV(1+R)**t\n",
    "\n",
    "print(prices.iloc[0])\n",
    "print(prices.iloc[len(returns)])\n",
    "\n",
    "print(prices.iloc[0] * (1 + R_G) ** len(returns))\n",
    "returns"
   ]
  },
  {
   "cell_type": "code",
   "execution_count": 59,
   "metadata": {},
   "outputs": [
    {
     "data": {
      "text/plain": [
       "2.869723656240511"
      ]
     },
     "execution_count": 59,
     "metadata": {},
     "output_type": "execute_result"
    }
   ],
   "source": [
    "stats.hmean(x1)\n",
    "stats.hmean(x2)"
   ]
  },
  {
   "cell_type": "code",
   "execution_count": null,
   "metadata": {},
   "outputs": [],
   "source": []
  }
 ],
 "metadata": {
  "kernelspec": {
   "display_name": "Python 3",
   "language": "python",
   "name": "python3"
  },
  "language_info": {
   "codemirror_mode": {
    "name": "ipython",
    "version": 3
   },
   "file_extension": ".py",
   "mimetype": "text/x-python",
   "name": "python",
   "nbconvert_exporter": "python",
   "pygments_lexer": "ipython3",
   "version": "3.7.3"
  }
 },
 "nbformat": 4,
 "nbformat_minor": 2
}
