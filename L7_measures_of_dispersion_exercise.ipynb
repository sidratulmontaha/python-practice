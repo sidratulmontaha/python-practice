{
 "cells": [
  {
   "cell_type": "code",
   "execution_count": 1,
   "metadata": {},
   "outputs": [],
   "source": [
    "import numpy as np\n",
    "import pandas as pd\n",
    "import matplotlib.pyplot as plt\n"
   ]
  },
  {
   "cell_type": "code",
   "execution_count": 3,
   "metadata": {},
   "outputs": [
    {
     "name": "stdout",
     "output_type": "stream",
     "text": [
      "[53  0  6 89 45 30 42 98 51 24 85 12 20 36 64 39 86 61 88 51 95 75 98  5\n",
      " 58 27 60 21 22 50 19 75 96 30 18 58 56 48 25 76  6  5 98  8 32 96 94 56\n",
      " 93 37 20 80 97  3  0 62 65 32 33 10 93  5 13 27 80 64 58 72 68 37 90 57\n",
      " 68 18 27 43 50 91 15 84 98  4 90 14 71  1 20 61 97 63 44 22 35 92 46 11\n",
      " 15 72 66 66]\n"
     ]
    }
   ],
   "source": [
    "X = np.random.randint(100, size=100)\n",
    "print(X)"
   ]
  },
  {
   "cell_type": "code",
   "execution_count": 10,
   "metadata": {},
   "outputs": [
    {
     "name": "stdout",
     "output_type": "stream",
     "text": [
      "98\n",
      "26.643199999999997\n",
      "936.2611000000002\n",
      "30.598383944254312\n",
      "959.3655666666667\n"
     ]
    }
   ],
   "source": [
    "#1\n",
    "range_X = np.ptp(X)\n",
    "print(range_X)\n",
    "\n",
    "mu = np.mean(X)\n",
    "MAD = np.sum([np.abs(x - mu) for x in X])/len(X)\n",
    "print(MAD)\n",
    "\n",
    "print(np.var(X))\n",
    "print(np.std(X))\n",
    "\n",
    "filtered = [x for x in X if x <=mu]\n",
    "semivariance = np.sum([np.abs(x - mu) ** 2 for x in filtered])/len(filtered)\n",
    "print(semivariance)"
   ]
  },
  {
   "cell_type": "code",
   "execution_count": 11,
   "metadata": {},
   "outputs": [
    {
     "name": "stdout",
     "output_type": "stream",
     "text": [
      "Requirement already satisfied: pandas-datareader in c:\\anaconda3\\lib\\site-packages (0.7.0)\n",
      "Requirement already satisfied: lxml in c:\\anaconda3\\lib\\site-packages (from pandas-datareader) (4.2.5)\n",
      "Requirement already satisfied: wrapt in c:\\users\\sidratul\\appdata\\roaming\\python\\python37\\site-packages (from pandas-datareader) (1.11.1)\n",
      "Requirement already satisfied: requests>=2.3.0 in c:\\anaconda3\\lib\\site-packages (from pandas-datareader) (2.21.0)\n",
      "Requirement already satisfied: pandas>=0.19.2 in c:\\anaconda3\\lib\\site-packages (from pandas-datareader) (0.23.4)\n",
      "Requirement already satisfied: idna<2.9,>=2.5 in c:\\anaconda3\\lib\\site-packages (from requests>=2.3.0->pandas-datareader) (2.8)\n",
      "Requirement already satisfied: certifi>=2017.4.17 in c:\\anaconda3\\lib\\site-packages (from requests>=2.3.0->pandas-datareader) (2018.11.29)\n",
      "Requirement already satisfied: chardet<3.1.0,>=3.0.2 in c:\\anaconda3\\lib\\site-packages (from requests>=2.3.0->pandas-datareader) (3.0.4)\n",
      "Requirement already satisfied: urllib3<1.25,>=1.21.1 in c:\\anaconda3\\lib\\site-packages (from requests>=2.3.0->pandas-datareader) (1.24.1)\n",
      "Requirement already satisfied: python-dateutil>=2.5.0 in c:\\anaconda3\\lib\\site-packages (from pandas>=0.19.2->pandas-datareader) (2.7.5)\n",
      "Requirement already satisfied: pytz>=2011k in c:\\anaconda3\\lib\\site-packages (from pandas>=0.19.2->pandas-datareader) (2018.7)\n",
      "Requirement already satisfied: numpy>=1.9.0 in c:\\anaconda3\\lib\\site-packages (from pandas>=0.19.2->pandas-datareader) (1.15.4)\n",
      "Requirement already satisfied: six>=1.5 in c:\\users\\sidratul\\appdata\\roaming\\python\\python37\\site-packages (from python-dateutil>=2.5.0->pandas>=0.19.2->pandas-datareader) (1.12.0)\n"
     ]
    }
   ],
   "source": [
    "!pip install pandas-datareader\n",
    "from datetime import datetime\n",
    "import pandas_datareader as pdr"
   ]
  },
  {
   "cell_type": "code",
   "execution_count": 18,
   "metadata": {},
   "outputs": [
    {
     "data": {
      "text/plain": [
       "<matplotlib.axes._subplots.AxesSubplot at 0x83c2a12198>"
      ]
     },
     "execution_count": 18,
     "metadata": {},
     "output_type": "execute_result"
    },
    {
     "data": {
      "image/png": "[encoded data removed]",
      "text/plain": [
       "<Figure size 432x288 with 1 Axes>"
      ]
     },
     "metadata": {
      "needs_background": "light"
     },
     "output_type": "display_data"
    }
   ],
   "source": [
    "#2\n",
    "att =  pdr.data.DataReader('T', data_source='yahoo', start=datetime(2017,1,1), end=datetime(2019,1,1)).iloc[:, -1]\n",
    "rolling_mean = att.rolling(30).mean().dropna()\n",
    "rolling_std = att.rolling(30).std().dropna()\n",
    "\n",
    "rolling_std.plot()"
   ]
  },
  {
   "cell_type": "code",
   "execution_count": 23,
   "metadata": {},
   "outputs": [
    {
     "name": "stdout",
     "output_type": "stream",
     "text": [
      "40.999354596331635\n",
      "481.7594593098086\n"
     ]
    }
   ],
   "source": [
    "#3\n",
    "asset1 =  pdr.data.DataReader('AAPL', data_source='yahoo', start=datetime(2017,1,1), end=datetime(2019,1,1)).iloc[:, -1]\n",
    "asset2 =  pdr.data.DataReader('XLF', data_source='yahoo', start=datetime(2017,1,1), end=datetime(2019,1,1)).iloc[:, -1]\n",
    "\n",
    "cov = np.cov(asset1, asset2)[0,1]\n",
    "print(cov)\n",
    "\n",
    "w1=0.8\n",
    "w2=1-w1\n",
    "\n",
    "v1 = np.var(asset1)\n",
    "v2 = np.var(asset2)\n",
    "\n",
    "pvariance = (w1**2) * v1 + (w2 ** 2) * v2 + (2 * w1 * w2) * cov\n",
    "print(pvariance)"
   ]
  },
  {
   "cell_type": "code",
   "execution_count": null,
   "metadata": {},
   "outputs": [],
   "source": []
  }
 ],
 "metadata": {
  "kernelspec": {
   "display_name": "Python 3",
   "language": "python",
   "name": "python3"
  },
  "language_info": {
   "codemirror_mode": {
    "name": "ipython",
    "version": 3
   },
   "file_extension": ".py",
   "mimetype": "text/x-python",
   "name": "python",
   "nbconvert_exporter": "python",
   "pygments_lexer": "ipython3",
   "version": "3.7.1"
  }
 },
 "nbformat": 4,
 "nbformat_minor": 2
}
