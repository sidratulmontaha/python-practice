{
 "cells": [
  {
   "cell_type": "code",
   "execution_count": 39,
   "metadata": {},
   "outputs": [],
   "source": [
    "import math\n",
    "\n",
    "class Polygon:\n",
    "    def __init__(self, n, R):\n",
    "        self.n , self.R = n, R\n",
    "\n",
    "    @property\n",
    "    def n(self):\n",
    "        return self._n \n",
    "    \n",
    "    @property\n",
    "    def vertices(self):\n",
    "        return self._n \n",
    "    \n",
    "    @n.setter\n",
    "    def n(self, n):\n",
    "        if n>2:\n",
    "            self._n = n\n",
    "        else:\n",
    "            raise ValueError('Numer of Vertices of the polygon must be > 2')\n",
    "    \n",
    "    @property\n",
    "    def R(self):\n",
    "        return self._R \n",
    "\n",
    "    @R.setter\n",
    "    def R(self, R):\n",
    "        if R > 0:\n",
    "            self._R = R\n",
    "        else:\n",
    "            raise ValueError('Circumradius of the Polygon must be > 0')\n",
    "\n",
    "    @property\n",
    "    def interior_angle(self):\n",
    "        return (self.n - 2) * 180/self.n \n",
    "    \n",
    "    @property\n",
    "    def edge_length(self):\n",
    "        return 2 * self.R * math.sin(math.pi/self.n)\n",
    "\n",
    "    @property\n",
    "    def apothem(self):\n",
    "        return self.R * math.cos(math.pi/self.n)\n",
    "\n",
    "    @property\n",
    "    def area(self):\n",
    "        return 0.5 * self.n * self.edge_length * self.apothem\n",
    "\n",
    "    @property\n",
    "    def perimeter(self):\n",
    "        return self.n * self.edge_length\n",
    "\n",
    "    def __repr__(self):\n",
    "        return \"\"\"\n",
    "        This Polygon has {0} vertices with a circumradius of {1}.\n",
    "        The interior angle and vertex length are {2}, {3} respectively.\n",
    "        The apothem is {4}.\n",
    "        The area and perimeter is {5}, {6} respectively.\n",
    "        \"\"\".format(self.n, self.R, self.interior_angle, self.edge_length\n",
    "        , self.apothem, self.area, self.perimeter)\n",
    "\n",
    "    def __eq__(self, other):\n",
    "        if isinstance(other, Polygon):\n",
    "            return self.n == other.n and math.isclose(self.R, other.R) \n",
    "        else:\n",
    "            raise TypeError\n",
    "\n",
    "    def __gt__(self, other):\n",
    "        if isinstance(other, Polygon):\n",
    "            return self.n > other.n \n",
    "        else:\n",
    "            raise TypeError\n"
   ]
  },
  {
   "cell_type": "code",
   "execution_count": 40,
   "metadata": {},
   "outputs": [],
   "source": [
    "class Polygons:   \n",
    "    def __init__(self, vertices, circumradius):\n",
    "        if(vertices < 3):\n",
    "            raise ValueError(\"Vertices must be greater than 3\")\n",
    "        self._polygons = [Polygon(i, circumradius) for i in range(3, vertices+1)]\n",
    "        \n",
    "    def __getitem__(self, index):\n",
    "        return self._polygons[index]\n",
    "    \n",
    "    def __len__(self):\n",
    "        return len(self._polygons)\n",
    "    \n",
    "    def max_efficiency_polygon(self):\n",
    "        '''returns the polygon with highest area:parameter ratio'''\n",
    "        s = sorted(self._polygons, key=lambda p: p.area/p.perimeter, reverse=True)\n",
    "        return s[0]"
   ]
  },
  {
   "cell_type": "code",
   "execution_count": 41,
   "metadata": {},
   "outputs": [
    {
     "name": "stdout",
     "output_type": "stream",
     "text": [
      "\n",
      "        This Polygon has 10 vertices with a circumradius of 1.\n",
      "        The interior angle and vertex length are 144.0, 0.6180339887498948 respectively.\n",
      "        The apothem is 0.9510565162951535.\n",
      "        The area and perimeter is 2.9389262614623655, 6.180339887498948 respectively.\n",
      "        \n"
     ]
    },
    {
     "data": {
      "text/plain": [
       "8"
      ]
     },
     "execution_count": 41,
     "metadata": {},
     "output_type": "execute_result"
    }
   ],
   "source": [
    "p = Polygons(10, 1)\n",
    "p[4]\n",
    "#p[12]\n",
    "print(p.max_efficiency_polygon())\n",
    "len(p)"
   ]
  },
  {
   "cell_type": "code",
   "execution_count": null,
   "metadata": {},
   "outputs": [],
   "source": []
  }
 ],
 "metadata": {
  "kernelspec": {
   "display_name": "Python 3",
   "language": "python",
   "name": "python3"
  },
  "language_info": {
   "codemirror_mode": {
    "name": "ipython",
    "version": 3
   },
   "file_extension": ".py",
   "mimetype": "text/x-python",
   "name": "python",
   "nbconvert_exporter": "python",
   "pygments_lexer": "ipython3",
   "version": "3.7.1"
  }
 },
 "nbformat": 4,
 "nbformat_minor": 2
}
