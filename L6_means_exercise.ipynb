{
 "cells": [
  {
   "cell_type": "code",
   "execution_count": 1,
   "metadata": {},
   "outputs": [
    {
     "name": "stdout",
     "output_type": "stream",
     "text": [
      "Requirement already satisfied: pandas-datareader in c:\\programdata\\anaconda3\\lib\\site-packages (0.7.0)\n",
      "Requirement already satisfied: requests>=2.3.0 in c:\\programdata\\anaconda3\\lib\\site-packages (from pandas-datareader) (2.21.0)\n",
      "Requirement already satisfied: pandas>=0.19.2 in c:\\programdata\\anaconda3\\lib\\site-packages (from pandas-datareader) (0.24.2)\n",
      "Requirement already satisfied: wrapt in c:\\users\\administrator\\appdata\\roaming\\python\\python37\\site-packages (from pandas-datareader) (1.11.1)\n",
      "Requirement already satisfied: lxml in c:\\programdata\\anaconda3\\lib\\site-packages (from pandas-datareader) (4.3.2)\n",
      "Requirement already satisfied: urllib3<1.25,>=1.21.1 in c:\\programdata\\anaconda3\\lib\\site-packages (from requests>=2.3.0->pandas-datareader) (1.24.1)\n",
      "Requirement already satisfied: certifi>=2017.4.17 in c:\\programdata\\anaconda3\\lib\\site-packages (from requests>=2.3.0->pandas-datareader) (2019.3.9)\n",
      "Requirement already satisfied: chardet<3.1.0,>=3.0.2 in c:\\programdata\\anaconda3\\lib\\site-packages (from requests>=2.3.0->pandas-datareader) (3.0.4)\n",
      "Requirement already satisfied: idna<2.9,>=2.5 in c:\\programdata\\anaconda3\\lib\\site-packages (from requests>=2.3.0->pandas-datareader) (2.8)\n",
      "Requirement already satisfied: pytz>=2011k in c:\\programdata\\anaconda3\\lib\\site-packages (from pandas>=0.19.2->pandas-datareader) (2018.9)\n",
      "Requirement already satisfied: python-dateutil>=2.5.0 in c:\\programdata\\anaconda3\\lib\\site-packages (from pandas>=0.19.2->pandas-datareader) (2.8.0)\n",
      "Requirement already satisfied: numpy>=1.12.0 in c:\\programdata\\anaconda3\\lib\\site-packages (from pandas>=0.19.2->pandas-datareader) (1.16.2)\n",
      "Requirement already satisfied: six>=1.5 in c:\\users\\administrator\\appdata\\roaming\\python\\python37\\site-packages (from python-dateutil>=2.5.0->pandas>=0.19.2->pandas-datareader) (1.12.0)\n"
     ]
    }
   ],
   "source": [
    "import scipy.stats as stats\n",
    "import numpy as np\n",
    "\n",
    "!pip install pandas-datareader\n",
    "from datetime import datetime\n",
    "import pandas_datareader as pdr"
   ]
  },
  {
   "cell_type": "code",
   "execution_count": 2,
   "metadata": {},
   "outputs": [
    {
     "name": "stdout",
     "output_type": "stream",
     "text": [
      "50.32\n"
     ]
    }
   ],
   "source": [
    "#1a\n",
    "l = np.random.randint(1,100,100)\n",
    "\n",
    "print(np.mean(l))"
   ]
  },
  {
   "cell_type": "code",
   "execution_count": 3,
   "metadata": {},
   "outputs": [
    {
     "name": "stdout",
     "output_type": "stream",
     "text": [
      "Date\n",
      "2017-01-04   -0.005525\n",
      "2017-01-05   -0.002778\n",
      "2017-01-06    0.075209\n",
      "2017-01-09   -0.018135\n",
      "2017-01-10    0.013193\n",
      "Name: Adj Close, dtype: float64\n"
     ]
    },
    {
     "data": {
      "text/plain": [
       "0.0005834346184473813"
      ]
     },
     "execution_count": 3,
     "metadata": {},
     "output_type": "execute_result"
    }
   ],
   "source": [
    "#1b\n",
    "price =  pdr.data.DataReader('ITI', data_source='yahoo', start=datetime(2017,1,1), end=datetime(2019,1,1)).iloc[:, -1]\n",
    "returns = price.pct_change().iloc[1:,]\n",
    "print(returns.head())\n",
    "returns.mean()"
   ]
  },
  {
   "cell_type": "code",
   "execution_count": 4,
   "metadata": {},
   "outputs": [
    {
     "name": "stdout",
     "output_type": "stream",
     "text": [
      "53.5\n"
     ]
    }
   ],
   "source": [
    "#2a\n",
    "median = np.median(l)\n",
    "print(median)"
   ]
  },
  {
   "cell_type": "code",
   "execution_count": 5,
   "metadata": {},
   "outputs": [
    {
     "name": "stdout",
     "output_type": "stream",
     "text": [
      "0.0014298272092225783\n"
     ]
    }
   ],
   "source": [
    "#2b\n",
    "price =  pdr.data.DataReader('MSFT', data_source='yahoo', start=datetime(2017,1,1), end=datetime(2019,1,1)).iloc[:, -1]\n",
    "returns = price.pct_change().iloc[1:,]\n",
    "print(returns.median())"
   ]
  },
  {
   "cell_type": "code",
   "execution_count": 6,
   "metadata": {},
   "outputs": [
    {
     "data": {
      "text/plain": [
       "16"
      ]
     },
     "execution_count": 6,
     "metadata": {},
     "output_type": "execute_result"
    }
   ],
   "source": [
    "#3a\n",
    "stats.mode(l)[0][0]"
   ]
  },
  {
   "cell_type": "code",
   "execution_count": 16,
   "metadata": {},
   "outputs": [
    {
     "name": "stdout",
     "output_type": "stream",
     "text": [
      "[  3   2   3  10   9  19  31  90 154  84  59  19   7   3   4   0   0   1\n",
      "   2   1]\n",
      "[-0.05433811 -0.04783593 -0.04133375 -0.03483157 -0.0283294  -0.02182722\n",
      " -0.01532504 -0.00882286 -0.00232068  0.0041815   0.01068367  0.01718585\n",
      "  0.02368803  0.03019021  0.03669239  0.04319457  0.04969674  0.05619892\n",
      "  0.0627011   0.06920328  0.07570546]\n",
      "[(-0.002320682442776431, 0.004181495853746088)]\n"
     ]
    }
   ],
   "source": [
    "#3b\n",
    "price =  pdr.data.DataReader('MSFT', data_source='yahoo', start=datetime(2017,1,1), end=datetime(2019,1,1)).iloc[:, -1]\n",
    "returns = price.pct_change().iloc[1:,]\n",
    "\n",
    "(hist, buckets) = np.histogram(returns, bins = 20)\n",
    "\n",
    "print(hist)\n",
    "print(buckets)\n",
    "\n",
    "max_freq = np.max(hist)\n",
    "\n",
    "mode = [(buckets[i], buckets[i+1])for i,j in enumerate(hist) if j == max_freq]\n",
    "\n",
    "print(mode)"
   ]
  },
  {
   "cell_type": "code",
   "execution_count": 17,
   "metadata": {},
   "outputs": [
    {
     "data": {
      "text/plain": [
       "37.426720627717955"
      ]
     },
     "execution_count": 17,
     "metadata": {},
     "output_type": "execute_result"
    }
   ],
   "source": [
    "#4a\n",
    "stats.gmean(l)"
   ]
  },
  {
   "cell_type": "code",
   "execution_count": 20,
   "metadata": {},
   "outputs": [
    {
     "data": {
      "text/plain": [
       "83.08610648147035"
      ]
     },
     "execution_count": 20,
     "metadata": {},
     "output_type": "execute_result"
    }
   ],
   "source": [
    "#4b\n",
    "price =  pdr.data.DataReader('MSFT', data_source='yahoo', start=datetime(2017,1,1), end=datetime(2019,1,1)).iloc[:, -1]\n",
    "\n",
    "stats.gmean(price)"
   ]
  },
  {
   "cell_type": "code",
   "execution_count": 21,
   "metadata": {},
   "outputs": [
    {
     "data": {
      "text/plain": [
       "17.98858582616796"
      ]
     },
     "execution_count": 21,
     "metadata": {},
     "output_type": "execute_result"
    }
   ],
   "source": [
    "#5a\n",
    "stats.hmean(l)"
   ]
  },
  {
   "cell_type": "code",
   "execution_count": 22,
   "metadata": {},
   "outputs": [
    {
     "data": {
      "text/plain": [
       "25.425507532672228"
      ]
     },
     "execution_count": 22,
     "metadata": {},
     "output_type": "execute_result"
    }
   ],
   "source": [
    "price =  pdr.data.DataReader('XLF', data_source='yahoo', start=datetime(2017,1,1), end=datetime(2019,1,1)).iloc[:, -1]\n",
    "\n",
    "stats.hmean(price)"
   ]
  },
  {
   "cell_type": "code",
   "execution_count": 27,
   "metadata": {},
   "outputs": [
    {
     "name": "stdout",
     "output_type": "stream",
     "text": [
      "negatively skewed\n"
     ]
    },
    {
     "data": {
      "text/plain": [
       "Text(0.5, 0, 'return')"
      ]
     },
     "execution_count": 27,
     "metadata": {},
     "output_type": "execute_result"
    },
    {
     "data": {
      "image/png": "[encoded data removed]",
      "text/plain": [
       "<Figure size 432x288 with 1 Axes>"
      ]
     },
     "metadata": {
      "needs_background": "light"
     },
     "output_type": "display_data"
    }
   ],
   "source": [
    "#6\n",
    "price =  pdr.data.DataReader('SPY', data_source='yahoo', start=datetime(2017,1,1), end=datetime(2019,1,1)).iloc[:, -1]\n",
    "returns = price.pct_change().iloc[1:,]\n",
    "\n",
    "if returns.mean() < returns.median():\n",
    "    print('negatively skewed')\n",
    "else:\n",
    "    print('positively skewed')\n",
    "    \n",
    "import matplotlib.pyplot as plt\n",
    "    \n",
    "plt.hist(returns, bins = 20)\n",
    "plt.ylabel('days')\n",
    "plt.xlabel('return')"
   ]
  },
  {
   "cell_type": "code",
   "execution_count": null,
   "metadata": {},
   "outputs": [],
   "source": []
  }
 ],
 "metadata": {
  "kernelspec": {
   "display_name": "Python 3",
   "language": "python",
   "name": "python3"
  },
  "language_info": {
   "codemirror_mode": {
    "name": "ipython",
    "version": 3
   },
   "file_extension": ".py",
   "mimetype": "text/x-python",
   "name": "python",
   "nbconvert_exporter": "python",
   "pygments_lexer": "ipython3",
   "version": "3.7.3"
  }
 },
 "nbformat": 4,
 "nbformat_minor": 2
}
