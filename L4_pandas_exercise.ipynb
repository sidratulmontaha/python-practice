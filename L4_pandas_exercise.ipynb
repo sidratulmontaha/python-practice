{
 "cells": [
  {
   "cell_type": "code",
   "execution_count": 1,
   "metadata": {},
   "outputs": [],
   "source": [
    "import numpy as np\n",
    "import pandas as pd\n",
    "import matplotlib.pyplot as plt"
   ]
  },
  {
   "cell_type": "code",
   "execution_count": 5,
   "metadata": {},
   "outputs": [
    {
     "data": {
      "text/plain": [
       "2016-01-01    97\n",
       "2016-01-02    71\n",
       "2016-01-03    39\n",
       "2016-01-04    40\n",
       "2016-01-05    77\n",
       "Freq: D, dtype: int32"
      ]
     },
     "execution_count": 5,
     "metadata": {},
     "output_type": "execute_result"
    }
   ],
   "source": [
    "#1a\n",
    "l = np.random.randint(1,100,size=1000)\n",
    "s = pd.Series(l)\n",
    "s.index = pd.date_range('2016-01-01', periods = len(s), freq = 'D')\n",
    "s.head()\n"
   ]
  },
  {
   "cell_type": "code",
   "execution_count": 10,
   "metadata": {},
   "outputs": [
    {
     "name": "stdout",
     "output_type": "stream",
     "text": [
      "2016-01-01    97\n",
      "2016-01-03    39\n",
      "2016-01-05    77\n",
      "2016-01-07    38\n",
      "2016-01-09    97\n",
      "2016-01-11    50\n",
      "2016-01-13    72\n",
      "2016-01-15    97\n",
      "2016-01-17    60\n",
      "2016-01-19    89\n",
      "2016-01-21     9\n",
      "2016-01-23    89\n",
      "2016-01-25     8\n",
      "2016-01-27    21\n",
      "2016-01-29    39\n",
      "2016-01-31    38\n",
      "2016-02-02    31\n",
      "2016-02-04    69\n",
      "2016-02-06    76\n",
      "2016-02-08    55\n",
      "2016-02-10    36\n",
      "2016-02-12    82\n",
      "2016-02-14    55\n",
      "2016-02-16    19\n",
      "2016-02-18    77\n",
      "Freq: 2D, dtype: int32\n",
      "36\n"
     ]
    }
   ],
   "source": [
    "#1b\n",
    "print(s.iloc[:50:2,])\n",
    "print(s.loc['2017-02-20'])"
   ]
  },
  {
   "cell_type": "code",
   "execution_count": 15,
   "metadata": {},
   "outputs": [
    {
     "data": {
      "text/plain": [
       "2016-03-11    2\n",
       "2016-03-15    2\n",
       "2016-06-15    2\n",
       "2016-06-20    2\n",
       "2016-09-04    2\n",
       "2017-03-23    2\n",
       "2017-07-16    2\n",
       "2018-04-01    2\n",
       "2018-04-24    2\n",
       "2018-05-31    2\n",
       "dtype: int32"
      ]
     },
     "execution_count": 15,
     "metadata": {},
     "output_type": "execute_result"
    }
   ],
   "source": [
    "#1c\n",
    "s.loc[(s >1) & (s < 3)]"
   ]
  },
  {
   "cell_type": "code",
   "execution_count": 19,
   "metadata": {},
   "outputs": [
    {
     "name": "stdout",
     "output_type": "stream",
     "text": [
      "2016-01-01    97\n",
      "2016-01-02    71\n",
      "2016-01-03    39\n",
      "2016-01-04    40\n",
      "2016-01-05    77\n",
      "Freq: D, dtype: int32\n",
      "2018-09-22    60\n",
      "2018-09-23    75\n",
      "2018-09-24     1\n",
      "2018-09-25    74\n",
      "2018-09-26    28\n",
      "Freq: D, dtype: int32\n"
     ]
    }
   ],
   "source": [
    "#2a\n",
    "print(s.iloc[:5])\n",
    "print(s.tail(5))"
   ]
  },
  {
   "cell_type": "code",
   "execution_count": 21,
   "metadata": {},
   "outputs": [
    {
     "name": "stdout",
     "output_type": "stream",
     "text": [
      "Requirement already satisfied: pandas-datareader in c:\\anaconda3\\lib\\site-packages (0.7.0)\n",
      "Requirement already satisfied: wrapt in c:\\users\\sidratul\\appdata\\roaming\\python\\python37\\site-packages (from pandas-datareader) (1.11.1)\n",
      "Requirement already satisfied: lxml in c:\\anaconda3\\lib\\site-packages (from pandas-datareader) (4.2.5)\n",
      "Requirement already satisfied: requests>=2.3.0 in c:\\anaconda3\\lib\\site-packages (from pandas-datareader) (2.21.0)\n",
      "Requirement already satisfied: pandas>=0.19.2 in c:\\anaconda3\\lib\\site-packages (from pandas-datareader) (0.23.4)\n",
      "Requirement already satisfied: certifi>=2017.4.17 in c:\\anaconda3\\lib\\site-packages (from requests>=2.3.0->pandas-datareader) (2018.11.29)\n",
      "Requirement already satisfied: idna<2.9,>=2.5 in c:\\anaconda3\\lib\\site-packages (from requests>=2.3.0->pandas-datareader) (2.8)\n",
      "Requirement already satisfied: chardet<3.1.0,>=3.0.2 in c:\\anaconda3\\lib\\site-packages (from requests>=2.3.0->pandas-datareader) (3.0.4)\n",
      "Requirement already satisfied: urllib3<1.25,>=1.21.1 in c:\\anaconda3\\lib\\site-packages (from requests>=2.3.0->pandas-datareader) (1.24.1)\n",
      "Requirement already satisfied: python-dateutil>=2.5.0 in c:\\anaconda3\\lib\\site-packages (from pandas>=0.19.2->pandas-datareader) (2.7.5)\n",
      "Requirement already satisfied: pytz>=2011k in c:\\anaconda3\\lib\\site-packages (from pandas>=0.19.2->pandas-datareader) (2018.7)\n",
      "Requirement already satisfied: numpy>=1.9.0 in c:\\anaconda3\\lib\\site-packages (from pandas>=0.19.2->pandas-datareader) (1.15.4)\n",
      "Requirement already satisfied: six>=1.5 in c:\\users\\sidratul\\appdata\\roaming\\python\\python37\\site-packages (from python-dateutil>=2.5.0->pandas>=0.19.2->pandas-datareader) (1.12.0)\n"
     ]
    }
   ],
   "source": [
    "!pip install pandas-datareader\n",
    "from datetime import datetime\n",
    "import pandas_datareader as pdr"
   ]
  },
  {
   "cell_type": "code",
   "execution_count": 31,
   "metadata": {},
   "outputs": [
    {
     "name": "stdout",
     "output_type": "stream",
     "text": [
      "Date\n",
      "2017-01-31    238.055000\n",
      "2017-02-28    262.079987\n",
      "2017-03-31    255.009995\n",
      "2017-04-30    304.000000\n",
      "2017-05-31    316.354996\n",
      "Freq: M, Name: Adj Close, dtype: float64\n"
     ]
    },
    {
     "data": {
      "text/plain": [
       "2017-01-01           NaN\n",
       "2017-01-02           NaN\n",
       "2017-01-03    216.990005\n",
       "2017-01-04    226.990005\n",
       "2017-01-05    226.750000\n",
       "Freq: D, Name: Adj Close, dtype: float64"
      ]
     },
     "execution_count": 31,
     "metadata": {},
     "output_type": "execute_result"
    }
   ],
   "source": [
    "#2b\n",
    "prices =  pdr.data.DataReader('TSLA', data_source='yahoo', start=datetime(2017,1,1), end=datetime(2019,1,1)).iloc[:, -1]\n",
    "monthly_prices = prices.resample('M').median()\n",
    "print(monthly_prices.head())\n",
    "range = pd.date_range(start=datetime(2017,1,1), end=datetime(2019,1,1), freq='D')\n",
    "prices = prices.reindex(range, method='ffill')\n",
    "prices.head()"
   ]
  },
  {
   "cell_type": "code",
   "execution_count": 35,
   "metadata": {},
   "outputs": [
    {
     "name": "stdout",
     "output_type": "stream",
     "text": [
      "2017-01-01           NaN\n",
      "2017-01-02           NaN\n",
      "2017-01-03    216.990005\n",
      "2017-01-04    226.990005\n",
      "2017-01-05    226.750000\n",
      "2017-01-06    229.009995\n",
      "2017-01-07    229.009995\n",
      "2017-01-08    229.009995\n",
      "2017-01-09    231.279999\n",
      "2017-01-10    229.869995\n",
      "2017-01-11    229.729996\n",
      "2017-01-12    229.589996\n",
      "2017-01-13    237.750000\n",
      "2017-01-14    237.750000\n",
      "2017-01-15    237.750000\n",
      "2017-01-16    237.750000\n",
      "2017-01-17    235.580002\n",
      "2017-01-18    238.360001\n",
      "2017-01-19    243.759995\n",
      "2017-01-20    244.729996\n",
      "2017-01-21    244.729996\n",
      "2017-01-22    244.729996\n",
      "2017-01-23    248.919998\n",
      "2017-01-24    254.610001\n",
      "2017-01-25    254.470001\n",
      "Freq: D, Name: Adj Close, dtype: float64\n",
      "2017-01-03    216.990005\n",
      "2017-01-04    226.990005\n",
      "2017-01-05    226.750000\n",
      "2017-01-06    229.009995\n",
      "2017-01-07    229.009995\n",
      "2017-01-08    229.009995\n",
      "2017-01-09    231.279999\n",
      "2017-01-10    229.869995\n",
      "2017-01-11    229.729996\n",
      "2017-01-12    229.589996\n",
      "2017-01-13    237.750000\n",
      "2017-01-14    237.750000\n",
      "2017-01-15    237.750000\n",
      "2017-01-16    237.750000\n",
      "2017-01-17    235.580002\n",
      "2017-01-18    238.360001\n",
      "2017-01-19    243.759995\n",
      "2017-01-20    244.729996\n",
      "2017-01-21    244.729996\n",
      "2017-01-22    244.729996\n",
      "2017-01-23    248.919998\n",
      "2017-01-24    254.610001\n",
      "2017-01-25    254.470001\n",
      "2017-01-26    252.509995\n",
      "2017-01-27    252.949997\n",
      "Freq: D, Name: Adj Close, dtype: float64\n"
     ]
    }
   ],
   "source": [
    "#3\n",
    "print(prices.fillna(method='ffill').head(25))\n",
    "\n",
    "print(prices.dropna().head(25))"
   ]
  },
  {
   "cell_type": "code",
   "execution_count": 36,
   "metadata": {},
   "outputs": [
    {
     "data": {
      "text/plain": [
       "count    1000.000000\n",
       "mean       50.777000\n",
       "std        28.765374\n",
       "min         1.000000\n",
       "25%        26.000000\n",
       "50%        51.000000\n",
       "75%        76.000000\n",
       "max        99.000000\n",
       "dtype: float64"
      ]
     },
     "execution_count": 36,
     "metadata": {},
     "output_type": "execute_result"
    }
   ],
   "source": [
    "#4a\n",
    "s.describe()"
   ]
  },
  {
   "cell_type": "code",
   "execution_count": 42,
   "metadata": {},
   "outputs": [],
   "source": [
    "#4b\n",
    "data =  pdr.data.DataReader('MSFT', data_source='yahoo', start=datetime(2017,1,1), end=datetime(2019,1,1)).iloc[:, -1]\n",
    "additive = data.diff()\n",
    "mult = data.pct_change()\n",
    "mult.head()\n",
    "\n",
    "rolling_mean = mult.rolling(60).mean()\n",
    "\n",
    "rolling_std = mult.rolling(60).std()"
   ]
  },
  {
   "cell_type": "code",
   "execution_count": null,
   "metadata": {},
   "outputs": [],
   "source": []
  }
 ],
 "metadata": {
  "kernelspec": {
   "display_name": "Python 3",
   "language": "python",
   "name": "python3"
  },
  "language_info": {
   "codemirror_mode": {
    "name": "ipython",
    "version": 3
   },
   "file_extension": ".py",
   "mimetype": "text/x-python",
   "name": "python",
   "nbconvert_exporter": "python",
   "pygments_lexer": "ipython3",
   "version": "3.7.1"
  }
 },
 "nbformat": 4,
 "nbformat_minor": 2
}
