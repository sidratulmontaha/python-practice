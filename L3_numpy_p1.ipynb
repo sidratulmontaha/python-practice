{
 "cells": [
  {
   "cell_type": "code",
   "execution_count": 2,
   "metadata": {},
   "outputs": [],
   "source": [
    "import numpy as np\n",
    "import matplotlib.pyplot as plt"
   ]
  },
  {
   "cell_type": "code",
   "execution_count": 3,
   "metadata": {},
   "outputs": [
    {
     "name": "stdout",
     "output_type": "stream",
     "text": [
      "[3.5 5.  2.  8.  4.2] <class 'numpy.ndarray'>\n"
     ]
    }
   ],
   "source": [
    "stock_list = [3.5,5,2,8,4.2]\n",
    "returns = np.array(stock_list)\n",
    "print(returns, type(returns))"
   ]
  },
  {
   "cell_type": "code",
   "execution_count": 14,
   "metadata": {},
   "outputs": [
    {
     "name": "stdout",
     "output_type": "stream",
     "text": [
      "[[1 2]\n",
      " [3 4]] <class 'numpy.ndarray'>\n",
      "(2, 2)\n",
      "(2,)\n"
     ]
    }
   ],
   "source": [
    "A = np.array([[1,2],[3,4]])\n",
    "print(A, type(A))\n",
    "print(A.shape)\n",
    "print(np.array([[[1,5],6],8]).shape)"
   ]
  },
  {
   "cell_type": "code",
   "execution_count": 15,
   "metadata": {},
   "outputs": [
    {
     "name": "stdout",
     "output_type": "stream",
     "text": [
      "3.5 4.2\n",
      "[2. 8.]\n"
     ]
    }
   ],
   "source": [
    "print(returns[0], returns[-1])\n",
    "print(returns[2:4])"
   ]
  },
  {
   "cell_type": "code",
   "execution_count": 21,
   "metadata": {},
   "outputs": [
    {
     "name": "stdout",
     "output_type": "stream",
     "text": [
      "3\n",
      "[2 4]\n",
      "[3 4]\n",
      "[1 2]\n"
     ]
    }
   ],
   "source": [
    "print(A[1,0])\n",
    "print(A[:,1])\n",
    "print(A[1,:])\n",
    "print(A[0])"
   ]
  },
  {
   "cell_type": "code",
   "execution_count": 26,
   "metadata": {},
   "outputs": [
    {
     "name": "stdout",
     "output_type": "stream",
     "text": [
      "[1.25276297 1.60943791 0.69314718 2.07944154 1.43508453]\n",
      "4.54\n",
      "8.0\n"
     ]
    }
   ],
   "source": [
    "print(np.log(returns))\n",
    "print(np.mean(returns))\n",
    "print(np.max(returns))"
   ]
  },
  {
   "cell_type": "code",
   "execution_count": 30,
   "metadata": {},
   "outputs": [
    {
     "name": "stdout",
     "output_type": "stream",
     "text": [
      "[12.  15.   9.  21.  13.4]\n",
      "1.9915822855207364\n"
     ]
    }
   ],
   "source": [
    "print(returns * 2 + 5)\n",
    "\n",
    "print(np.std(returns))\n"
   ]
  },
  {
   "cell_type": "code",
   "execution_count": 32,
   "metadata": {},
   "outputs": [],
   "source": [
    "N=10\n",
    "assets = np.zeros((N, 100))\n",
    "returns = np.zeros((N, 100))"
   ]
  },
  {
   "cell_type": "code",
   "execution_count": 36,
   "metadata": {},
   "outputs": [
    {
     "name": "stdout",
     "output_type": "stream",
     "text": [
      "[1.01254413 1.05349747 1.0277138  1.04412023 0.97335625 0.99965988\n",
      " 1.01827622 1.04151563 0.99628108 1.02117771 0.99580204 1.02751709\n",
      " 1.01005998 0.99467558 1.05467033 1.00574702 1.02011898 1.02635618\n",
      " 1.00820679 1.08678597 1.01461563 1.02929579 0.98070204 1.05338102\n",
      " 1.00891343 1.01138523 0.97346731 0.9959723  1.03358198 1.03259725\n",
      " 0.94797427 1.00092963 1.01937443 0.99286366 1.01423198 1.00113481\n",
      " 0.9908107  1.01529209 0.96289691 1.01771992 1.02243499 0.99952183\n",
      " 1.02853658 0.97926395 1.02524183 1.04755754 1.02119068 1.04791962\n",
      " 0.98379344 0.9977275  1.01179813 0.9944428  0.98870001 1.02524225\n",
      " 1.07519347 1.00566958 1.02241362 0.97005801 1.06874099 1.03804736\n",
      " 0.98294065 1.04498282 0.99280518 1.02378977 0.93739892 1.02398319\n",
      " 0.99362086 1.02693109 1.03203516 1.01735254 1.02491304 1.03639735\n",
      " 1.05392855 1.03846715 0.99543938 0.96467339 0.99466546 0.94998417\n",
      " 0.97643981 1.00263561 1.0060317  1.04663411 0.95006877 0.99904646\n",
      " 1.01698889 1.02570641 1.07468745 1.0248955  1.02053641 1.01098421\n",
      " 1.04937037 1.04304613 1.01395586 1.00798597 1.01470534 1.03873251\n",
      " 1.02614541 0.99892006 1.04564488 1.02658669]\n",
      "[1.01254413 1.06671268 1.09627535 1.14464326 1.11414568 1.11376673\n",
      " 1.13412218 1.18120599 1.17681317 1.20173538 1.19669055 1.22961999\n",
      " 1.24198994 1.23537707 1.30291554 1.31040342 1.33676741 1.37199949\n",
      " 1.38325921 1.50330669 1.52527847 1.56996272 1.53966565 1.62185458\n",
      " 1.63631087 1.65494065 1.61103062 1.60454187 1.65842556 1.71248567\n",
      " 1.62339236 1.62490151 1.65638305 1.64456254 1.66796793 1.66986076\n",
      " 1.65451591 1.67981691 1.61749052 1.64615231 1.68308372 1.68227892\n",
      " 1.73028541 1.69440612 1.73717603 1.81979185 1.85835448 1.94740611\n",
      " 1.91584535 1.91149159 1.93404362 1.92329575 1.90156254 1.94956226\n",
      " 2.09615662 2.10804096 2.15528978 2.09075613 2.23447677 2.31949271\n",
      " 2.27992367 2.38248106 2.36533955 2.42161042 2.270015   2.3244572\n",
      " 2.30962916 2.37183    2.44781194 2.49028769 2.55232833 2.64522632\n",
      " 2.78787954 2.89512133 2.88191779 2.7801094  2.76527879 2.62697106\n",
      " 2.56507912 2.57183967 2.58735224 2.70801112 2.57279678 2.57034352\n",
      " 2.61401081 2.68120763 2.88146019 2.95319557 3.01384359 3.04694827\n",
      " 3.19737724 3.33501196 3.38155491 3.4085599  3.45868394 3.59264746\n",
      " 3.68657871 3.68259742 3.85068913 3.9530662 ]\n"
     ]
    }
   ],
   "source": [
    "R_1 = np.random.normal(1.01, 0.03, 100) #mean, standard deviation of the normal distribution\n",
    "returns[0] = R_1\n",
    "assets[0] = np.cumprod(R_1) #cumulative produuct\n",
    "print(R_1)\n",
    "print(assets[0])"
   ]
  },
  {
   "cell_type": "code",
   "execution_count": 42,
   "metadata": {},
   "outputs": [
    {
     "name": "stdout",
     "output_type": "stream",
     "text": [
      "[0.014227741710123532, 0.013969138213476784, 0.013279963176456633, 0.015584631927394677, 0.012302217817918404, 0.012839515896292175, 0.014656001621200065, 0.0115573612187434, 0.01776136445617249, 0.013626796687230325]\n",
      "[0.027983576989078957, 0.03784417505799614, 0.03243582156394012, 0.03232767988628684, 0.03520491947213958, 0.035144564632653384, 0.035826917131391925, 0.033821578163759504, 0.03365200884661837, 0.03538286256752972]\n"
     ]
    }
   ],
   "source": [
    "for i in range(1, N):\n",
    "    R_i = R_1 + np.random.normal(0.001, 0.02, 100)\n",
    "    returns[i] = R_i\n",
    "    assets[i] = np.cumprod(R_i)\n",
    "    \n",
    "mean_returns = [np.mean(R)-1 for R in returns]\n",
    "return_volatilities = [np.std(R) for R in returns]\n",
    "print(mean_returns)\n",
    "print(return_volatilities)"
   ]
  },
  {
   "cell_type": "code",
   "execution_count": 44,
   "metadata": {},
   "outputs": [
    {
     "data": {
      "text/plain": [
       "Text(0.5, 1.0, 'Returns for 10 random assets')"
      ]
     },
     "execution_count": 44,
     "metadata": {},
     "output_type": "execute_result"
    },
    {
     "data": {
      "image/png": "[encoded data removed]",
      "text/plain": [
       "<Figure size 432x288 with 1 Axes>"
      ]
     },
     "metadata": {
      "needs_background": "light"
     },
     "output_type": "display_data"
    }
   ],
   "source": [
    "plt.bar(np.arange(len(mean_returns)), mean_returns)\n",
    "plt.xlabel('Stock')\n",
    "plt.ylabel('returns')\n",
    "plt.title('Returns for {0} random assets'.format(N))"
   ]
  },
  {
   "cell_type": "code",
   "execution_count": 47,
   "metadata": {},
   "outputs": [
    {
     "name": "stdout",
     "output_type": "stream",
     "text": [
      "[0.7287456  0.15243392 0.12956874 0.26548229 0.85221516 0.61398651\n",
      " 0.27228747 0.49914543 0.3069323  0.98764956] 4.808446995326161\n",
      "[0.1515553  0.03170128 0.02694607 0.05521165 0.17723293 0.12768915\n",
      " 0.05662691 0.10380595 0.0638319  0.20539887] 1.0\n"
     ]
    }
   ],
   "source": [
    "weights = np.random.uniform(0,1,N)\n",
    "print(weights, np.sum(weights))\n",
    "weights = weights/np.sum(weights)\n",
    "print(weights, np.sum(weights))"
   ]
  },
  {
   "cell_type": "code",
   "execution_count": 49,
   "metadata": {},
   "outputs": [
    {
     "name": "stdout",
     "output_type": "stream",
     "text": [
      "expected return of the portfolio: 0.013599567335698068\n"
     ]
    }
   ],
   "source": [
    "p_returns = np.dot(mean_returns, weights)\n",
    "print(\"expected return of the portfolio: {0}\".format(p_returns))"
   ]
  },
  {
   "cell_type": "code",
   "execution_count": 50,
   "metadata": {},
   "outputs": [
    {
     "name": "stdout",
     "output_type": "stream",
     "text": [
      "[ 1.  2. nan  4.  5.]\n"
     ]
    }
   ],
   "source": [
    "v=np.array([1,2,np.nan, 4,5])\n",
    "print(v)"
   ]
  },
  {
   "cell_type": "code",
   "execution_count": 53,
   "metadata": {},
   "outputs": [
    {
     "name": "stdout",
     "output_type": "stream",
     "text": [
      "nan\n"
     ]
    },
    {
     "data": {
      "text/plain": [
       "False"
      ]
     },
     "execution_count": 53,
     "metadata": {},
     "output_type": "execute_result"
    }
   ],
   "source": [
    "print(np.mean(v))\n",
    "all(np.isnan(v))"
   ]
  },
  {
   "cell_type": "code",
   "execution_count": 61,
   "metadata": {},
   "outputs": [
    {
     "name": "stdout",
     "output_type": "stream",
     "text": [
      "[1. 2. 4. 5.]\n",
      "3.0\n",
      "[ 1.  3.  3.  7. 12.]\n"
     ]
    }
   ],
   "source": [
    "ix = ~np.isnan(v)\n",
    "\n",
    "print(v[ix]) #taking only non NAN values\n",
    "print(np.nanmean(v))\n",
    "print(np.nancumsum(v))\n"
   ]
  },
  {
   "cell_type": "code",
   "execution_count": null,
   "metadata": {},
   "outputs": [],
   "source": []
  }
 ],
 "metadata": {
  "kernelspec": {
   "display_name": "Python 3",
   "language": "python",
   "name": "python3"
  },
  "language_info": {
   "codemirror_mode": {
    "name": "ipython",
    "version": 3
   },
   "file_extension": ".py",
   "mimetype": "text/x-python",
   "name": "python",
   "nbconvert_exporter": "python",
   "pygments_lexer": "ipython3",
   "version": "3.7.1"
  }
 },
 "nbformat": 4,
 "nbformat_minor": 2
}
