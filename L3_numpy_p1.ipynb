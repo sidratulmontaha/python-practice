{
 "cells": [
  {
   "cell_type": "code",
   "execution_count": 26,
   "metadata": {},
   "outputs": [],
   "source": [
    "import numpy as np\n",
    "import matplotlib.pyplot as plt"
   ]
  },
  {
   "cell_type": "code",
   "execution_count": 27,
   "metadata": {},
   "outputs": [
    {
     "name": "stdout",
     "output_type": "stream",
     "text": [
      "[3.5 5.  2.  8.  4.2] <class 'numpy.ndarray'>\n"
     ]
    }
   ],
   "source": [
    "stock_list = [3.5,5,2,8,4.2]\n",
    "returns = np.array(stock_list)\n",
    "print(returns, type(returns))"
   ]
  },
  {
   "cell_type": "code",
   "execution_count": 28,
   "metadata": {},
   "outputs": [
    {
     "name": "stdout",
     "output_type": "stream",
     "text": [
      "[[1 2]\n",
      " [3 4]] <class 'numpy.ndarray'>\n",
      "(2, 2)\n",
      "(2,)\n"
     ]
    }
   ],
   "source": [
    "A = np.array([[1,2],[3,4]])\n",
    "print(A, type(A))\n",
    "print(A.shape)\n",
    "print(np.array([[[1,5],6],8]).shape)"
   ]
  },
  {
   "cell_type": "code",
   "execution_count": 29,
   "metadata": {},
   "outputs": [
    {
     "name": "stdout",
     "output_type": "stream",
     "text": [
      "3.5 4.2\n",
      "[2. 8.]\n"
     ]
    }
   ],
   "source": [
    "print(returns[0], returns[-1])\n",
    "print(returns[2:4])"
   ]
  },
  {
   "cell_type": "code",
   "execution_count": 30,
   "metadata": {},
   "outputs": [
    {
     "name": "stdout",
     "output_type": "stream",
     "text": [
      "3\n",
      "[2 4]\n",
      "[3 4]\n",
      "[1 2]\n"
     ]
    }
   ],
   "source": [
    "print(A[1,0])\n",
    "print(A[:,1])\n",
    "print(A[1,:])\n",
    "print(A[0])"
   ]
  },
  {
   "cell_type": "code",
   "execution_count": 31,
   "metadata": {},
   "outputs": [
    {
     "name": "stdout",
     "output_type": "stream",
     "text": [
      "[1.25276297 1.60943791 0.69314718 2.07944154 1.43508453]\n",
      "4.54\n",
      "8.0\n"
     ]
    }
   ],
   "source": [
    "print(np.log(returns))\n",
    "print(np.mean(returns))\n",
    "print(np.max(returns))"
   ]
  },
  {
   "cell_type": "code",
   "execution_count": 32,
   "metadata": {},
   "outputs": [
    {
     "name": "stdout",
     "output_type": "stream",
     "text": [
      "[12.  15.   9.  21.  13.4]\n",
      "1.9915822855207364\n"
     ]
    }
   ],
   "source": [
    "print(returns * 2 + 5)\n",
    "\n",
    "print(np.std(returns))\n"
   ]
  },
  {
   "cell_type": "code",
   "execution_count": 33,
   "metadata": {},
   "outputs": [],
   "source": [
    "N=10\n",
    "assets = np.zeros((N, 100))\n",
    "returns = np.zeros((N, 100))"
   ]
  },
  {
   "cell_type": "code",
   "execution_count": 34,
   "metadata": {},
   "outputs": [
    {
     "name": "stdout",
     "output_type": "stream",
     "text": [
      "[1.03057209 1.00275048 1.0760118  1.02824128 1.0402826  1.00915966\n",
      " 1.05078235 1.01256223 0.99037816 1.01731355 1.04294194 1.07673929\n",
      " 1.00666795 1.02738109 1.02793846 1.03611526 0.97653641 1.0472651\n",
      " 0.98703956 1.04325741 0.99742423 0.99718523 1.03799238 1.0569326\n",
      " 1.00903186 1.02764454 1.05935928 0.99759345 0.99771401 0.99374779\n",
      " 0.97741184 0.99902385 1.00570834 0.99288113 0.99729453 1.01528584\n",
      " 1.060552   1.04830968 1.01570198 1.02125621 1.04832733 1.02490557\n",
      " 0.98106178 1.02164851 1.04735608 0.98116436 1.02165741 1.01305151\n",
      " 1.02166563 0.9846916  0.96870906 0.99829868 0.97895279 1.02711179\n",
      " 1.02129763 0.99740651 1.00087332 1.03537892 0.98476759 0.99086571\n",
      " 1.01966249 1.0096146  0.95932748 1.00259346 1.00642383 0.94572636\n",
      " 1.0290839  1.01642829 1.02179485 0.95332684 1.02543441 1.02852767\n",
      " 1.02792306 1.02031588 1.01119615 1.00750826 1.01593127 0.99834662\n",
      " 1.008034   1.03740183 0.99345441 1.01292112 1.05154297 0.95727848\n",
      " 0.98812873 1.0018819  1.011509   1.04080891 1.04666226 1.07417692\n",
      " 1.00251787 1.09728091 1.0234734  0.98716815 1.00745735 1.00617874\n",
      " 1.01866722 1.03850541 1.01071288 1.03318312]\n",
      "[1.03057209 1.03340666 1.11195776 1.14336088 1.18941843 1.20031309\n",
      " 1.26126781 1.27711214 1.26482397 1.28672256 1.34197692 1.44495928\n",
      " 1.4545942  1.49442257 1.53617444 1.59165378 1.55430787 1.62777238\n",
      " 1.60667573 1.67617636 1.67185892 1.66715302 1.73049213 1.82901355\n",
      " 1.84553296 1.89655186 2.00912982 2.00429474 1.99971294 1.98721032\n",
      " 1.94232289 1.94042689 1.9515035  1.937611   1.93236885 1.96190674\n",
      " 2.08070412 2.18122226 2.21547178 2.26256432 2.37190802 2.43098174\n",
      " 2.38494327 2.43657373 2.55196031 2.50389251 2.55812035 2.59150768\n",
      " 2.64765434 2.607123   2.52554368 2.52124693 2.46818172 2.53509853\n",
      " 2.58909013 2.58237536 2.58463059 2.67607204 2.63530901 2.61123733\n",
      " 2.66258075 2.6881804  2.57884534 2.58553347 2.60214249 2.46091476\n",
      " 2.53248775 2.5740922  2.63019414 2.50743468 2.5712098  2.64456043\n",
      " 2.71840465 2.77363143 2.80468543 2.82574373 2.87076141 2.86601495\n",
      " 2.88904051 2.9970959  2.97747815 3.01595049 3.17140155 3.03591446\n",
      " 2.9998743  3.00551976 3.04011028 3.16417386 3.31182137 3.55748208\n",
      " 3.56643935 3.9133858  4.00524625 3.95385154 3.98333681 4.00794881\n",
      " 4.08276607 4.23997465 4.285397   4.42759985]\n"
     ]
    }
   ],
   "source": [
    "R_1 = np.random.normal(1.01, 0.03, 100) #mean, standard deviation of the normal distribution\n",
    "returns[0] = R_1\n",
    "assets[0] = np.cumprod(R_1) #cumulative produuct\n",
    "print(R_1)\n",
    "print(assets[0])"
   ]
  },
  {
   "cell_type": "code",
   "execution_count": 35,
   "metadata": {},
   "outputs": [
    {
     "name": "stdout",
     "output_type": "stream",
     "text": [
      "[0.01535290238431175, 0.019792388633761426, 0.013168078777195946, 0.014273783481116187, 0.018263236542933825, 0.01075104477134392, 0.019354507480088268, 0.014750306484139442, 0.01547668697625193, 0.016047674047499294]\n",
      "[0.027179645567972036, 0.036268027066785516, 0.03664798554651919, 0.029598784434896153, 0.034304377030326745, 0.034795796278786824, 0.03167918022345038, 0.03475439563685004, 0.032564818139030616, 0.031972790828431415]\n"
     ]
    }
   ],
   "source": [
    "for i in range(1, N):\n",
    "    R_i = R_1 + np.random.normal(0.001, 0.02, 100)\n",
    "    returns[i] = R_i\n",
    "    assets[i] = np.cumprod(R_i)\n",
    "    \n",
    "mean_returns = [np.mean(R)-1 for R in returns]\n",
    "return_volatilities = [np.std(R) for R in returns]\n",
    "print(mean_returns)\n",
    "print(return_volatilities)"
   ]
  },
  {
   "cell_type": "code",
   "execution_count": 36,
   "metadata": {},
   "outputs": [
    {
     "data": {
      "text/plain": [
       "Text(0.5, 1.0, 'Returns for 10 random assets')"
      ]
     },
     "execution_count": 36,
     "metadata": {},
     "output_type": "execute_result"
    },
    {
     "data": {
      "image/png": "[encoded data removed]",
      "text/plain": [
       "<Figure size 432x288 with 1 Axes>"
      ]
     },
     "metadata": {
      "needs_background": "light"
     },
     "output_type": "display_data"
    }
   ],
   "source": [
    "plt.bar(np.arange(len(mean_returns)), mean_returns)\n",
    "plt.xlabel('Stock')\n",
    "plt.ylabel('returns')\n",
    "plt.title('Returns for {0} random assets'.format(N))"
   ]
  },
  {
   "cell_type": "code",
   "execution_count": 37,
   "metadata": {},
   "outputs": [
    {
     "name": "stdout",
     "output_type": "stream",
     "text": [
      "[0.73355299 0.12155962 0.04133066 0.43988809 0.53987067 0.60897907\n",
      " 0.50775909 0.99704866 0.20533106 0.21139942] 4.406719330477363\n",
      "[0.16646238 0.02758506 0.00937901 0.09982213 0.12251079 0.1381933\n",
      " 0.11522383 0.22625645 0.04659499 0.04797206] 1.0\n"
     ]
    }
   ],
   "source": [
    "weights = np.random.uniform(0,1,N)\n",
    "print(weights, np.sum(weights))\n",
    "weights = weights/np.sum(weights)\n",
    "print(weights, np.sum(weights))"
   ]
  },
  {
   "cell_type": "code",
   "execution_count": 38,
   "metadata": {},
   "outputs": [
    {
     "name": "stdout",
     "output_type": "stream",
     "text": [
      "expected return of the portfolio: 0.015431592360061388\n"
     ]
    }
   ],
   "source": [
    "p_returns = np.dot(mean_returns, weights)\n",
    "print(\"expected return of the portfolio: {0}\".format(p_returns))"
   ]
  },
  {
   "cell_type": "code",
   "execution_count": 39,
   "metadata": {},
   "outputs": [
    {
     "name": "stdout",
     "output_type": "stream",
     "text": [
      "[ 1.  2. nan  4.  5.]\n"
     ]
    }
   ],
   "source": [
    "v=np.array([1,2,np.nan, 4,5])\n",
    "print(v)"
   ]
  },
  {
   "cell_type": "code",
   "execution_count": 40,
   "metadata": {},
   "outputs": [
    {
     "name": "stdout",
     "output_type": "stream",
     "text": [
      "nan\n"
     ]
    },
    {
     "data": {
      "text/plain": [
       "False"
      ]
     },
     "execution_count": 40,
     "metadata": {},
     "output_type": "execute_result"
    }
   ],
   "source": [
    "print(np.mean(v))\n",
    "all(np.isnan(v))"
   ]
  },
  {
   "cell_type": "code",
   "execution_count": 41,
   "metadata": {},
   "outputs": [
    {
     "name": "stdout",
     "output_type": "stream",
     "text": [
      "[1. 2. 4. 5.]\n",
      "3.0\n",
      "[ 1.  3.  3.  7. 12.]\n"
     ]
    }
   ],
   "source": [
    "ix = ~np.isnan(v)\n",
    "\n",
    "print(v[ix]) #taking only non NAN values\n",
    "print(np.nanmean(v))\n",
    "print(np.nancumsum(v))\n"
   ]
  },
  {
   "cell_type": "code",
   "execution_count": 42,
   "metadata": {},
   "outputs": [
    {
     "name": "stdout",
     "output_type": "stream",
     "text": [
      "[[0.0007462  0.00084555 0.00083852 0.00065188 0.00077135 0.00079386\n",
      "  0.00068264 0.00077994 0.0007358  0.00068865]\n",
      " [0.00084555 0.00132866 0.0009916  0.00070593 0.00090605 0.00094832\n",
      "  0.00083584 0.00089022 0.00077474 0.0007944 ]\n",
      " [0.00083852 0.0009916  0.00135664 0.00076094 0.00087248 0.00089153\n",
      "  0.00072435 0.00086512 0.00081091 0.00070826]\n",
      " [0.00065188 0.00070593 0.00076094 0.00088494 0.0005935  0.00071661\n",
      "  0.00061632 0.00068739 0.00062828 0.00064301]\n",
      " [0.00077135 0.00090605 0.00087248 0.0005935  0.00118868 0.00082575\n",
      "  0.00075372 0.00080672 0.00071338 0.00064172]\n",
      " [0.00079386 0.00094832 0.00089153 0.00071661 0.00082575 0.00122298\n",
      "  0.00068554 0.0008754  0.00075922 0.00076925]\n",
      " [0.00068264 0.00083584 0.00072435 0.00061632 0.00075372 0.00068554\n",
      "  0.00101371 0.00077929 0.00065478 0.00071356]\n",
      " [0.00077994 0.00089022 0.00086512 0.00068739 0.00080672 0.0008754\n",
      "  0.00077929 0.00122007 0.00072901 0.00075371]\n",
      " [0.0007358  0.00077474 0.00081091 0.00062828 0.00071338 0.00075922\n",
      "  0.00065478 0.00072901 0.00107118 0.00071395]\n",
      " [0.00068865 0.0007944  0.00070826 0.00064301 0.00064172 0.00076925\n",
      "  0.00071356 0.00075371 0.00071395 0.00103259]]\n"
     ]
    }
   ],
   "source": [
    "cov_mat = np.cov(returns)\n",
    "print(cov_mat)"
   ]
  },
  {
   "cell_type": "code",
   "execution_count": 45,
   "metadata": {},
   "outputs": [
    {
     "name": "stdout",
     "output_type": "stream",
     "text": [
      "[[ 34  44  54 128 124]\n",
      " [ 21  27  33  79  82]\n",
      " [ 82 101 120 227 216]\n",
      " [108 135 162 333 324]]\n",
      "[[ 1  2  3 12  6]\n",
      " [ 4  5  6 15 20]\n",
      " [ 7  8  9 10 10]]\n",
      "[[ 1  4  7]\n",
      " [ 2  5  8]\n",
      " [ 3  6  9]\n",
      " [12 15 10]\n",
      " [ 6 20 10]]\n",
      "[[ 1  4  7]\n",
      " [ 2  5  8]\n",
      " [ 3  6  9]\n",
      " [12 15 10]\n",
      " [ 6 20 10]]\n"
     ]
    }
   ],
   "source": [
    "A = np.array([\n",
    "    [1,2,3,12,6],\n",
    "    [4,5,6,15,20],\n",
    "    [7,8,9,10,10]\n",
    "])\n",
    "B = np.array([\n",
    "    [4,4,2],\n",
    "    [2,3,1],\n",
    "    [6,5,8],\n",
    "    [9,9,9]\n",
    "]) \n",
    "print(np.dot(B,A))\n",
    "print(A)\n",
    "print(np.transpose(A))\n",
    "print(A.T)"
   ]
  },
  {
   "cell_type": "code",
   "execution_count": 49,
   "metadata": {},
   "outputs": [
    {
     "name": "stdout",
     "output_type": "stream",
     "text": [
      "Portfolio vol:  0.028259780952175795\n"
     ]
    }
   ],
   "source": [
    "#variance of portfolio = weight vector * covariance matrix * transposed weight vector\n",
    "var_p = np.dot(np.dot(weights, cov_mat), weights.T)\n",
    "vol_p = np.sqrt(var_p)\n",
    "print(\"Portfolio vol: \", vol_p)"
   ]
  },
  {
   "cell_type": "code",
   "execution_count": 48,
   "metadata": {},
   "outputs": [
    {
     "name": "stdout",
     "output_type": "stream",
     "text": [
      "Portfolio vol:  0.02825978095217581\n"
     ]
    }
   ],
   "source": [
    "vol_p_alt = np.sqrt(np.var(np.dot(weights,returns), ddof=1))\n",
    "print(\"Portfolio vol: \", vol_p_alt)"
   ]
  },
  {
   "cell_type": "code",
   "execution_count": null,
   "metadata": {},
   "outputs": [],
   "source": []
  }
 ],
 "metadata": {
  "kernelspec": {
   "display_name": "Python 3",
   "language": "python",
   "name": "python3"
  },
  "language_info": {
   "codemirror_mode": {
    "name": "ipython",
    "version": 3
   },
   "file_extension": ".py",
   "mimetype": "text/x-python",
   "name": "python",
   "nbconvert_exporter": "python",
   "pygments_lexer": "ipython3",
   "version": "3.7.3"
  }
 },
 "nbformat": 4,
 "nbformat_minor": 2
}
