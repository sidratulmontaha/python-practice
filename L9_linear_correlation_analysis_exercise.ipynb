{
 "cells": [
  {
   "cell_type": "code",
   "execution_count": 1,
   "metadata": {},
   "outputs": [],
   "source": [
    "\n",
    "def find_most_correlated(data):\n",
    "    n = data.shape[1]\n",
    "    keys = data.keys()\n",
    "    pair = []\n",
    "    max_value = 0\n",
    "    for i in range(n):\n",
    "        for j in range(i+1, n):\n",
    "            S1 = data[keys[i]]\n",
    "            S2 = data[keys[j]]\n",
    "            result = np.corrcoef(S1, S2)[0,1]\n",
    "            if result > max_value:\n",
    "                pair = (keys[i], keys[j])\n",
    "                max_value = result\n",
    "    return pair, max_value"
   ]
  },
  {
   "cell_type": "code",
   "execution_count": 2,
   "metadata": {},
   "outputs": [],
   "source": [
    "import numpy as np\n",
    "import pandas as pd\n",
    "import matplotlib.pyplot as plt\n"
   ]
  },
  {
   "cell_type": "code",
   "execution_count": 8,
   "metadata": {},
   "outputs": [
    {
     "name": "stdout",
     "output_type": "stream",
     "text": [
      "0.09061927048217136\n",
      "0.8201168101124503\n",
      "-0.2748944972920968\n",
      "-0.9982816847982731\n"
     ]
    }
   ],
   "source": [
    "A = np.random.rand(100)\n",
    "B = -3 * A + np.random.exponential(0.05, 100)\n",
    "\n",
    "print(np.var(A))\n",
    "print(np.var(B))\n",
    "\n",
    "print(np.cov(A,B)[0,1])\n",
    "print(np.corrcoef(A,B)[0,1])"
   ]
  },
  {
   "cell_type": "code",
   "execution_count": null,
   "metadata": {},
   "outputs": [],
   "source": [
    "C = np.random.rand(100)\n",
    "D = np.random.normal(0,0.5,100)\n",
    "\n"
   ]
  }
 ],
 "metadata": {
  "kernelspec": {
   "display_name": "Python 3",
   "language": "python",
   "name": "python3"
  },
  "language_info": {
   "codemirror_mode": {
    "name": "ipython",
    "version": 3
   },
   "file_extension": ".py",
   "mimetype": "text/x-python",
   "name": "python",
   "nbconvert_exporter": "python",
   "pygments_lexer": "ipython3",
   "version": "3.7.1"
  }
 },
 "nbformat": 4,
 "nbformat_minor": 2
}
