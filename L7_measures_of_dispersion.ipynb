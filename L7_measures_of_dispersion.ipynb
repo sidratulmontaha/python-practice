{
 "cells": [
  {
   "cell_type": "code",
   "execution_count": 4,
   "metadata": {},
   "outputs": [],
   "source": [
    "import numpy as np\n",
    "np.random.seed(121)"
   ]
  },
  {
   "cell_type": "code",
   "execution_count": 5,
   "metadata": {},
   "outputs": [
    {
     "name": "stdout",
     "output_type": "stream",
     "text": [
      "[ 3  8 34 39 46 52 52 52 54 57 60 65 66 75 83 85 88 94 95 96]\n",
      "mu  60.2\n"
     ]
    }
   ],
   "source": [
    "X = np.random.randint(100,size=20)\n",
    "\n",
    "X = np.sort(X)\n",
    "print(X)\n",
    "\n",
    "mu = np.mean(X)\n",
    "print(\"mu \", mu)"
   ]
  },
  {
   "cell_type": "code",
   "execution_count": 6,
   "metadata": {},
   "outputs": [
    {
     "name": "stdout",
     "output_type": "stream",
     "text": [
      "range of X  93\n"
     ]
    }
   ],
   "source": [
    "print(\"range of X \", np.ptp(X))"
   ]
  },
  {
   "cell_type": "code",
   "execution_count": 9,
   "metadata": {},
   "outputs": [
    {
     "name": "stdout",
     "output_type": "stream",
     "text": [
      "[57.2, 52.2, 26.200000000000003, 21.200000000000003, 14.200000000000003, 8.200000000000003, 8.200000000000003, 8.200000000000003, 6.200000000000003, 3.200000000000003, 0.20000000000000284, 4.799999999999997, 5.799999999999997, 14.799999999999997, 22.799999999999997, 24.799999999999997, 27.799999999999997, 33.8, 34.8, 35.8]\n",
      "MEAN ABSOLUTE DEVIATION:  20.520000000000003\n"
     ]
    }
   ],
   "source": [
    "abs_dispersion = [np.abs(x - mu) for x in X]\n",
    "print(abs_dispersion)\n",
    "MAD = np.sum(abs_dispersion) / len(X)\n",
    "print(\"MEAN ABSOLUTE DEVIATION: \", MAD)"
   ]
  },
  {
   "cell_type": "code",
   "execution_count": 10,
   "metadata": {},
   "outputs": [
    {
     "name": "stdout",
     "output_type": "stream",
     "text": [
      "670.16\n",
      "25.887448696231154\n"
     ]
    }
   ],
   "source": [
    "print(np.var(X))\n",
    "print(np.std(X))"
   ]
  },
  {
   "cell_type": "code",
   "execution_count": 12,
   "metadata": {},
   "outputs": [
    {
     "name": "stdout",
     "output_type": "stream",
     "text": [
      "observations within 1 std dev of mean  [34, 39, 46, 52, 52, 52, 54, 57, 60, 65, 66, 75, 83, 85, 88]\n",
      "proportion of obs 0.75\n",
      "chebychevs  0.36\n"
     ]
    }
   ],
   "source": [
    "#Chebychev's inequality test\n",
    "# 1-1/k**2\n",
    "\n",
    "k = 1.25\n",
    "dist = k * np.std(X)\n",
    "l = [x for x in X if np.abs(x-mu) <= dist]\n",
    "print('observations within 1 std dev of mean ', l)\n",
    "print('proportion of obs', len(l)/len(X))\n",
    "print('chebychevs ', 1-1/(k**2))"
   ]
  },
  {
   "cell_type": "code",
   "execution_count": 14,
   "metadata": {},
   "outputs": [
    {
     "name": "stdout",
     "output_type": "stream",
     "text": [
      "SEMIVARIANCE OF X;  689.5127272727273\n",
      "Semideviation of X  26.258574357202395\n"
     ]
    }
   ],
   "source": [
    "#computing semivariance and target semivariance\n",
    "filtered = [x for x in X if x < mu]\n",
    "semivariance = np.sum ( (filtered-mu)**2)/len(filtered)\n",
    "print('SEMIVARIANCE OF X; ', semivariance)\n",
    "print(\"Semideviation of X \", np.sqrt(semivariance))"
   ]
  },
  {
   "cell_type": "code",
   "execution_count": null,
   "metadata": {},
   "outputs": [],
   "source": []
  }
 ],
 "metadata": {
  "kernelspec": {
   "display_name": "Python 3",
   "language": "python",
   "name": "python3"
  },
  "language_info": {
   "codemirror_mode": {
    "name": "ipython",
    "version": 3
   },
   "file_extension": ".py",
   "mimetype": "text/x-python",
   "name": "python",
   "nbconvert_exporter": "python",
   "pygments_lexer": "ipython3",
   "version": "3.7.1"
  }
 },
 "nbformat": 4,
 "nbformat_minor": 2
}
